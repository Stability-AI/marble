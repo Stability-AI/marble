{
 "cells": [
  {
   "cell_type": "code",
   "execution_count": null,
   "id": "3b1976c7-5491-4124-94c1-dd99b5fcd016",
   "metadata": {},
   "outputs": [],
   "source": [
    "import torch\n",
    "from PIL import Image\n",
    "import numpy as np\n",
    "\n",
    "from marble import (\n",
    "    get_session,\n",
    "    run_parametric_control,\n",
    "    setup_control_mlps,\n",
    "    setup_pipeline,\n",
    ")"
   ]
  },
  {
   "cell_type": "code",
   "execution_count": null,
   "id": "2306a004-ac0e-4714-9868-ae77b699fef1",
   "metadata": {},
   "outputs": [],
   "source": [
    "control_mlps = setup_control_mlps()\n",
    "ip_adapter = setup_pipeline()\n",
    "rembg_session = get_session()"
   ]
  },
  {
   "cell_type": "markdown",
   "id": "34bbcb27",
   "metadata": {},
   "source": [
    "# Create the 3x3 editing grid"
   ]
  },
  {
   "cell_type": "code",
   "execution_count": null,
   "id": "94851e56-fe11-4aa4-8574-e12d0433508d",
   "metadata": {},
   "outputs": [],
   "source": [
    "# Edit strengths for metallic. More negative = more metallic, best results between range -20 to 20\n",
    "edit_strengths1 = [-20, 0, 20]\n",
    "\n",
    "# Edit strengths for roughness. More positive = more roughness, best results between range -1 to 1\n",
    "edit_strengths2 = [-1, 0, 1]\n",
    "\n",
    "\n",
    "all_images = []\n",
    "for edit_strength1 in edit_strengths1:\n",
    "    for edit_strength2 in edit_strengths2:\n",
    "        target_image_path = \"input_images/context_image/toy_car.png\"\n",
    "        target_image = Image.open(target_image_path)\n",
    "\n",
    "        texture_image = \"input_images/texture/metal_bowl.png\"\n",
    "        texture_image = Image.open(texture_image)\n",
    "\n",
    "        result = run_parametric_control(\n",
    "            ip_adapter,\n",
    "            target_image,\n",
    "            {\n",
    "                control_mlps[\"metallic\"]: edit_strength1,\n",
    "                control_mlps[\"roughness\"]: edit_strength2,\n",
    "            },\n",
    "            texture_image=texture_image,\n",
    "        )\n",
    "\n",
    "        all_images.append(result.resize((512, 512)))"
   ]
  },
  {
   "cell_type": "code",
   "execution_count": null,
   "id": "d61d15b6-efe6-49fb-a33c-589de9781a08",
   "metadata": {},
   "outputs": [],
   "source": [
    "import matplotlib.pyplot as plt\n",
    "\n",
    "\n",
    "def show_image_grid(images, x, y, figsize=(10, 10)):\n",
    "    \"\"\"\n",
    "    Display a list of images in an x by y grid.\n",
    "\n",
    "    Args:\n",
    "        images (list of np.array): List of images (e.g., numpy arrays).\n",
    "        x (int): Number of columns.\n",
    "        y (int): Number of rows.\n",
    "        figsize (tuple): Size of the figure.\n",
    "    \"\"\"\n",
    "    fig, axes = plt.subplots(y, x, figsize=figsize)\n",
    "    axes = axes.flatten()\n",
    "\n",
    "    for i in range(x * y):\n",
    "        ax = axes[i]\n",
    "        if i < len(images):\n",
    "            ax.imshow(images[i])\n",
    "            ax.axis(\"off\")\n",
    "        else:\n",
    "            ax.axis(\"off\")  # Hide unused subplots\n",
    "\n",
    "    plt.tight_layout()\n",
    "    plt.show()\n",
    "\n",
    "\n",
    "show_image_grid(all_images, len(edit_strengths1), len(edit_strengths2))"
   ]
  }
 ],
 "metadata": {
  "kernelspec": {
   "display_name": "venv",
   "language": "python",
   "name": "python3"
  },
  "language_info": {
   "codemirror_mode": {
    "name": "ipython",
    "version": 3
   },
   "file_extension": ".py",
   "mimetype": "text/x-python",
   "name": "python",
   "nbconvert_exporter": "python",
   "pygments_lexer": "ipython3",
   "version": "3.10.17"
  }
 },
 "nbformat": 4,
 "nbformat_minor": 5
}
