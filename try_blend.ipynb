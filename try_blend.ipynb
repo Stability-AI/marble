{
 "cells": [
  {
   "cell_type": "code",
   "execution_count": null,
   "metadata": {},
   "outputs": [],
   "source": [
    "from marble import run_blend, setup_pipeline\n",
    "from PIL import Image"
   ]
  },
  {
   "cell_type": "code",
   "execution_count": null,
   "metadata": {},
   "outputs": [],
   "source": [
    "ip_adapter = setup_pipeline()\n",
    "target_image = Image.open(\"input_images/context_image/beetle.png\")\n",
    "ip_image = Image.open(\"input_images/texture/low_roughness.png\")\n",
    "ip_image2 = Image.open(\"input_images/texture/high_roughness.png\")"
   ]
  },
  {
   "cell_type": "code",
   "execution_count": null,
   "metadata": {},
   "outputs": [],
   "source": [
    "for edit_strength in [0.0, 0.2, 0.4, 0.6, 0.8, 1.0]:\n",
    "    blended_image = run_blend(ip_adapter, target_image, ip_image, ip_image2, edit_strength=edit_strength)\n",
    "    blended_image.show()"
   ]
  }
 ],
 "metadata": {
  "kernelspec": {
   "display_name": "venv",
   "language": "python",
   "name": "python3"
  },
  "language_info": {
   "codemirror_mode": {
    "name": "ipython",
    "version": 3
   },
   "file_extension": ".py",
   "mimetype": "text/x-python",
   "name": "python",
   "nbconvert_exporter": "python",
   "pygments_lexer": "ipython3",
   "version": "3.10.16"
  }
 },
 "nbformat": 4,
 "nbformat_minor": 2
}
